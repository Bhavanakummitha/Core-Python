{
 "cells": [
  {
   "cell_type": "code",
   "execution_count": 1,
   "metadata": {},
   "outputs": [
    {
     "name": "stdout",
     "output_type": "stream",
     "text": [
      "Hi, im learning core in last week onwards\n",
      "Hi, im learning core in last week onwards\n"
     ]
    }
   ],
   "source": [
    "def corepython():\n",
    "    print(\"Hi, im learning core in last week onwards\")\n",
    "corepython()\n",
    "corepython()    "
   ]
  },
  {
   "cell_type": "code",
   "execution_count": 2,
   "metadata": {},
   "outputs": [
    {
     "name": "stdout",
     "output_type": "stream",
     "text": [
      "meghan is nasty fellow he always did some wrong things\n",
      "Harshi is my sister but she always talks bad on me and she ignores me\n",
      "Harshi is my sister but she always talks bad on me and she ignores me\n"
     ]
    }
   ],
   "source": [
    "def meghan():\n",
    "    print(\"meghan is nasty fellow he always did some wrong things\")\n",
    "meghan() \n",
    "\n",
    "def harshi():\n",
    "    print(\"Harshi is my sister but she always talks bad on me and she ignores me\")\n",
    "harshi()\n",
    "harshi()    "
   ]
  }
 ],
 "metadata": {
  "kernelspec": {
   "display_name": "Python 3",
   "language": "python",
   "name": "python3"
  },
  "language_info": {
   "codemirror_mode": {
    "name": "ipython",
    "version": 3
   },
   "file_extension": ".py",
   "mimetype": "text/x-python",
   "name": "python",
   "nbconvert_exporter": "python",
   "pygments_lexer": "ipython3",
   "version": "3.10.11"
  }
 },
 "nbformat": 4,
 "nbformat_minor": 2
}
