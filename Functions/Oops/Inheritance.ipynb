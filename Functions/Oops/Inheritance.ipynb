{
 "cells": [
  {
   "cell_type": "code",
   "execution_count": 2,
   "metadata": {},
   "outputs": [
    {
     "name": "stdout",
     "output_type": "stream",
     "text": [
      "Honey is eating\n"
     ]
    }
   ],
   "source": [
    "class Animal:\n",
    "      def __init__(self,name,age):\n",
    "            self.name=name\n",
    "            self.age=age\n",
    "\n",
    "      def eat(self):\n",
    "            print(self.name,\"is eating\")\n",
    "      \n",
    "class Dog(Animal):\n",
    "      pass\n",
    "d1=Dog(\"Honey\",5)\n",
    "d1.eat()\n"
   ]
  },
  {
   "cell_type": "code",
   "execution_count": 6,
   "metadata": {},
   "outputs": [
    {
     "name": "stdout",
     "output_type": "stream",
     "text": [
      "Ms. Harshika is teaching Math\n",
      "Ms. Harshika is checking homework\n",
      "Name: Ms. Harshika Subject: Math\n"
     ]
    }
   ],
   "source": [
    "class Teacher:\n",
    "    def __init__(self, name, subject):\n",
    "        self.name = name\n",
    "        self.subject = subject\n",
    "\n",
    "    def teach(self):\n",
    "        print(self.name, \"is teaching\", self.subject)\n",
    "\n",
    "    def checkHomework(self):\n",
    "        print(self.name, \"is checking homework\")\n",
    "\n",
    "    def info(self):\n",
    "        print(\"Name:\", self.name, \"Subject:\", self.subject)\n",
    "\n",
    "t1 = Teacher(\"Ms. Harshika\", \"Math\")\n",
    "t1.teach()\n",
    "t1.checkHomework()\n",
    "t1.info()\n"
   ]
  },
  {
   "cell_type": "code",
   "execution_count": 1,
   "metadata": {},
   "outputs": [
    {
     "name": "stdout",
     "output_type": "stream",
     "text": [
      "John is eating\n",
      "John is walking\n",
      "John is working\n",
      "Name: John\n",
      "Age: 35\n"
     ]
    }
   ],
   "source": [
    "class Employee:\n",
    "    def __init__(self, name, age):\n",
    "        self.name = name\n",
    "        self.age = age\n",
    "\n",
    "class Manager(Employee):\n",
    "    def eat(self):\n",
    "        print(self.name, \"is eating\")\n",
    "\n",
    "    def walk(self):\n",
    "        print(self.name, \"is walking\")\n",
    "\n",
    "    def work(self):\n",
    "        print(self.name, \"is working\")\n",
    "\n",
    "    def info(self):\n",
    "        print(\"Name:\", self.name)\n",
    "        print(\"Age:\", self.age)\n",
    "\n",
    "e1 = Manager(\"John\", 35)\n",
    "e1.eat()\n",
    "e1.walk()\n",
    "e1.work()\n",
    "e1.info()\n"
   ]
  },
  {
   "cell_type": "code",
   "execution_count": 2,
   "metadata": {},
   "outputs": [
    {
     "name": "stdout",
     "output_type": "stream",
     "text": [
      "Toyota Camry is starting\n",
      "Toyota Camry is driving\n",
      "Toyota Camry is stopping\n",
      "Model: Toyota Camry\n",
      "Year: 2020\n"
     ]
    }
   ],
   "source": [
    "class Vehicle:\n",
    "    def __init__(self, model, year):\n",
    "        self.model = model\n",
    "        self.year = year\n",
    "\n",
    "class Car(Vehicle):\n",
    "    def start(self):\n",
    "        print(self.model, \"is starting\")\n",
    "\n",
    "    def drive(self):\n",
    "        print(self.model, \"is driving\")\n",
    "\n",
    "    def stop(self):\n",
    "        print(self.model, \"is stopping\")\n",
    "\n",
    "    def info(self):\n",
    "        print(\"Model:\", self.model)\n",
    "        print(\"Year:\", self.year)\n",
    "\n",
    "c1 = Car(\"Toyota Camry\", 2020)\n",
    "c1.start()\n",
    "c1.drive()\n",
    "c1.stop()\n",
    "c1.info()\n"
   ]
  },
  {
   "cell_type": "code",
   "execution_count": 3,
   "metadata": {},
   "outputs": [
    {
     "name": "stdout",
     "output_type": "stream",
     "text": [
      "Washing Machine is starting\n",
      "Washing Machine is washing\n",
      "Washing Machine is stopping\n",
      "Type: Washing Machine\n",
      "Brand: LG\n"
     ]
    }
   ],
   "source": [
    "class Appliance:\n",
    "    def __init__(self, type, brand):\n",
    "        self.type = type\n",
    "        self.brand = brand\n",
    "\n",
    "class WashingMachine(Appliance):\n",
    "    def start(self):\n",
    "        print(self.type, \"is starting\")\n",
    "\n",
    "    def wash(self):\n",
    "        print(self.type, \"is washing\")\n",
    "\n",
    "    def stop(self):\n",
    "        print(self.type, \"is stopping\")\n",
    "\n",
    "    def info(self):\n",
    "        print(\"Type:\", self.type)\n",
    "        print(\"Brand:\", self.brand)\n",
    "\n",
    "w1 = WashingMachine(\"Washing Machine\", \"LG\")\n",
    "w1.start()\n",
    "w1.wash()\n",
    "w1.stop()\n",
    "w1.info()\n"
   ]
  },
  {
   "cell_type": "code",
   "execution_count": 4,
   "metadata": {},
   "outputs": [
    {
     "name": "stdout",
     "output_type": "stream",
     "text": [
      "iPhone is making a call\n",
      "iPhone is sending a text\n",
      "iPhone is shutting down\n",
      "Brand: iPhone\n",
      "Price: 999\n"
     ]
    }
   ],
   "source": [
    "class Device:\n",
    "    def __init__(self, brand, price):\n",
    "        self.brand = brand\n",
    "        self.price = price\n",
    "\n",
    "class Phone(Device):\n",
    "    def call(self):\n",
    "        print(self.brand, \"is making a call\")\n",
    "\n",
    "    def text(self):\n",
    "        print(self.brand, \"is sending a text\")\n",
    "\n",
    "    def shutdown(self):\n",
    "        print(self.brand, \"is shutting down\")\n",
    "\n",
    "    def info(self):\n",
    "        print(\"Brand:\", self.brand)\n",
    "        print(\"Price:\", self.price)\n",
    "\n",
    "p1 = Phone(\"iPhone\", 999)\n",
    "p1.call()\n",
    "p1.text()\n",
    "p1.shutdown()\n",
    "p1.info()\n"
   ]
  }
 ],
 "metadata": {
  "kernelspec": {
   "display_name": "Python 3",
   "language": "python",
   "name": "python3"
  },
  "language_info": {
   "codemirror_mode": {
    "name": "ipython",
    "version": 3
   },
   "file_extension": ".py",
   "mimetype": "text/x-python",
   "name": "python",
   "nbconvert_exporter": "python",
   "pygments_lexer": "ipython3",
   "version": "3.10.11"
  }
 },
 "nbformat": 4,
 "nbformat_minor": 2
}
