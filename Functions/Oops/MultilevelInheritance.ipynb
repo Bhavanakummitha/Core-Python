{
 "cells": [
  {
   "cell_type": "code",
   "execution_count": null,
   "metadata": {},
   "outputs": [
    {
     "ename": "AttributeError",
     "evalue": "'Child' object has no attribute 'method1'",
     "output_type": "error",
     "traceback": [
      "\u001b[1;31m---------------------------------------------------------------------------\u001b[0m",
      "\u001b[1;31mAttributeError\u001b[0m                            Traceback (most recent call last)",
      "Cell \u001b[1;32mIn[2], line 25\u001b[0m\n\u001b[0;32m     22\u001b[0m     \u001b[38;5;28mprint\u001b[39m(\u001b[38;5;124m\"\u001b[39m\u001b[38;5;124mMethod 3 of Child\u001b[39m\u001b[38;5;124m\"\u001b[39m)\n\u001b[0;32m     24\u001b[0m child \u001b[38;5;241m=\u001b[39m Child()\n\u001b[1;32m---> 25\u001b[0m \u001b[43mchild\u001b[49m\u001b[38;5;241;43m.\u001b[39;49m\u001b[43mmethod1\u001b[49m()\n\u001b[0;32m     26\u001b[0m child\u001b[38;5;241m.\u001b[39mmethod2()\n",
      "\u001b[1;31mAttributeError\u001b[0m: 'Child' object has no attribute 'method1'"
     ]
    }
   ],
   "source": [
    "class GrandParent:\n",
    "      def init(self):\n",
    "       self.num1 = 50\n",
    "\n",
    "def method1(self):\n",
    "    print(\"Method 1 of GrandParent\")\n",
    "\n",
    "class Parent(GrandParent):\n",
    "  def init(self):\n",
    "     super().init()\n",
    "     self.num2 = 100\n",
    "\n",
    "def method2(self):\n",
    "    print(\"Method 2 of Parent\")\n",
    "\n",
    "class Child(Parent):\n",
    "   def init(self):\n",
    "     super().init()\n",
    "self.num3 = 200\n",
    "\n",
    "def method3(self):\n",
    "    print(\"Method 3 of Child\")\n",
    "\n",
    "child = Child()\n",
    "child.method1()\n",
    "child.method2()\n",
    "child.method3()\n"
   ]
  },
  {
   "cell_type": "code",
   "execution_count": 6,
   "metadata": {},
   "outputs": [
    {
     "name": "stdout",
     "output_type": "stream",
     "text": [
      "Eating\n",
      "Walking\n",
      "Roar\n"
     ]
    }
   ],
   "source": [
    "class Animal:\n",
    "    def __init__(self):\n",
    "        self.name = \"Lion\"\n",
    "\n",
    "    def eat(self):\n",
    "        print(\"Eating\")\n",
    "\n",
    "class Mammal(Animal):\n",
    "    def __init__(self):\n",
    "        super().__init__()\n",
    "        self.habitat = \"Forest\"\n",
    "\n",
    "    def walk(self):\n",
    "        print(\"Walking\")\n",
    "\n",
    "class Lion(Mammal):\n",
    "    def __init__(self):\n",
    "        super().__init__()\n",
    "        self.sound = \"Roar\"\n",
    "\n",
    "    def roar(self):\n",
    "        print(self.sound)\n",
    "\n",
    "lion = Lion()\n",
    "lion.eat()\n",
    "lion.walk()\n",
    "lion.roar()\n",
    "\n"
   ]
  },
  {
   "cell_type": "code",
   "execution_count": 10,
   "metadata": {},
   "outputs": [
    {
     "ename": "AttributeError",
     "evalue": "'SportsCar' object has no attribute 'move'",
     "output_type": "error",
     "traceback": [
      "\u001b[1;31m---------------------------------------------------------------------------\u001b[0m",
      "\u001b[1;31mAttributeError\u001b[0m                            Traceback (most recent call last)",
      "Cell \u001b[1;32mIn[10], line 25\u001b[0m\n\u001b[0;32m     22\u001b[0m     \u001b[38;5;28mprint\u001b[39m(\u001b[38;5;124m\"\u001b[39m\u001b[38;5;124mTurbo Boosting\u001b[39m\u001b[38;5;124m\"\u001b[39m)\n\u001b[0;32m     24\u001b[0m sports_car \u001b[38;5;241m=\u001b[39m SportsCar()\n\u001b[1;32m---> 25\u001b[0m \u001b[43msports_car\u001b[49m\u001b[38;5;241;43m.\u001b[39;49m\u001b[43mmove\u001b[49m()\n\u001b[0;32m     26\u001b[0m sports_car\u001b[38;5;241m.\u001b[39maccelerate()\n\u001b[0;32m     27\u001b[0m sports_car\u001b[38;5;241m.\u001b[39mturbo_boost()\n",
      "\u001b[1;31mAttributeError\u001b[0m: 'SportsCar' object has no attribute 'move'"
     ]
    }
   ],
   "source": [
    "class Vehicle:\n",
    " def init(self):\n",
    "   self.wheels = 4\n",
    "\n",
    "def move(self):\n",
    "    print(\"Moving\")\n",
    "\n",
    "class Car(Vehicle):\n",
    " def init(self):\n",
    "  super().init()\n",
    "  self.engine =\"V8\"\n",
    "\n",
    "def accelerate(self):\n",
    "    print(\"Accelerating\")\n",
    "\n",
    "class SportsCar(Car):\n",
    "  def init(self):\n",
    "    super().init()\n",
    "    self.top_speed = 250\n",
    "\n",
    "def turbo_boost(self):\n",
    "    print(\"Turbo Boosting\")\n",
    "\n",
    "sports_car = SportsCar()\n",
    "sports_car.move()\n",
    "sports_car.accelerate()\n",
    "sports_car.turbo_boost()\n"
   ]
  },
  {
   "cell_type": "code",
   "execution_count": 11,
   "metadata": {},
   "outputs": [
    {
     "name": "stdout",
     "output_type": "stream",
     "text": [
      "Calculating Area\n",
      "Calculating Perimeter\n"
     ]
    }
   ],
   "source": [
    "class Shape:\n",
    "    def __init__(self):\n",
    "        self.color = \"Red\"\n",
    "\n",
    "    def area(self):\n",
    "        print(\"Calculating Area\")\n",
    "\n",
    "class Rectangle(Shape):\n",
    "    def __init__(self):\n",
    "        super().__init__()\n",
    "        self.length = 10\n",
    "        self.width = 5\n",
    "\n",
    "    def perimeter(self):\n",
    "        print(\"Calculating Perimeter\")\n",
    "\n",
    "class Square(Rectangle):\n",
    "    def __init__(self):\n",
    "        super().__init__()\n",
    "        self.side = 5\n",
    "\n",
    "    def diagonal(self):\n",
    "        print(\"Calculating Diagonal\")\n",
    "\n",
    "square = Square()\n",
    "square.area()\n",
    "square.perimeter()\n"
   ]
  },
  {
   "cell_type": "code",
   "execution_count": 14,
   "metadata": {},
   "outputs": [
    {
     "ename": "AttributeError",
     "evalue": "'Smartphone' object has no attribute 'turn_on'",
     "output_type": "error",
     "traceback": [
      "\u001b[1;31m---------------------------------------------------------------------------\u001b[0m",
      "\u001b[1;31mAttributeError\u001b[0m                            Traceback (most recent call last)",
      "Cell \u001b[1;32mIn[14], line 33\u001b[0m\n\u001b[0;32m     30\u001b[0m     \u001b[38;5;28mprint\u001b[39m(\u001b[38;5;124m\"\u001b[39m\u001b[38;5;124mBrowsing Internet\u001b[39m\u001b[38;5;124m\"\u001b[39m)\n\u001b[0;32m     32\u001b[0m smartphone \u001b[38;5;241m=\u001b[39m Smartphone()\n\u001b[1;32m---> 33\u001b[0m \u001b[43msmartphone\u001b[49m\u001b[38;5;241;43m.\u001b[39;49m\u001b[43mturn_on\u001b[49m()\n\u001b[0;32m     34\u001b[0m smartphone\u001b[38;5;241m.\u001b[39mcall()\n\u001b[0;32m     35\u001b[0m smartphone\u001b[38;5;241m.\u001b[39mbrowse()\n",
      "\u001b[1;31mAttributeError\u001b[0m: 'Smartphone' object has no attribute 'turn_on'"
     ]
    }
   ],
   "source": [
    "class Electronic:\n",
    " def init(self):\n",
    "  self.power = \"Battery\"\n",
    "\n",
    "def turn_on(self):\n",
    "    print(\"Turning On\")\n",
    "\n",
    "class Phone(Electronic):\n",
    " def init(self):\n",
    "  super().init()\n",
    "  self.power = \"Battery\"\n",
    "\n",
    "  def turn_on(self):\n",
    "    print(\"Turning On\")\n",
    "\n",
    "class Phone(Electronic):\n",
    " def init(self):\n",
    "  super().init()\n",
    "  self.screen = \"Touchscreen\"\n",
    "\n",
    "def call(self):\n",
    "    print(\"Calling\")\n",
    "\n",
    "class Smartphone(Phone):\n",
    " def init(self):\n",
    "  super().init()\n",
    "  self.processor = \"Quad Core\"\n",
    "\n",
    "def browse(self):\n",
    "    print(\"Browsing Internet\")\n",
    "\n",
    "smartphone = Smartphone()\n",
    "smartphone.turn_on()\n",
    "smartphone.call()\n",
    "smartphone.browse()"
   ]
  }
 ],
 "metadata": {
  "kernelspec": {
   "display_name": "Python 3",
   "language": "python",
   "name": "python3"
  },
  "language_info": {
   "codemirror_mode": {
    "name": "ipython",
    "version": 3
   },
   "file_extension": ".py",
   "mimetype": "text/x-python",
   "name": "python",
   "nbconvert_exporter": "python",
   "pygments_lexer": "ipython3",
   "version": "3.10.11"
  }
 },
 "nbformat": 4,
 "nbformat_minor": 2
}
