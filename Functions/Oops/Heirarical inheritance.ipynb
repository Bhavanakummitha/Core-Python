{
 "cells": [
  {
   "cell_type": "code",
   "execution_count": 1,
   "metadata": {},
   "outputs": [
    {
     "name": "stdout",
     "output_type": "stream",
     "text": [
      "University: John Doe\n",
      "Student Name: John Doe, Roll Number: S101\n",
      "University: Jane Smith\n",
      "Teacher Name: Jane Smith, Subject: Mathematics\n"
     ]
    }
   ],
   "source": [
    "class University:\n",
    "    def __init__(self, name):\n",
    "        self.name = name\n",
    "\n",
    "    def display(self):\n",
    "        print(f\"University: {self.name}\")\n",
    "\n",
    "class Student(University):\n",
    "    def __init__(self, name, roll_number):\n",
    "        super().__init__(\"XYZ University\")\n",
    "        self.name = name\n",
    "        self.roll_number = roll_number\n",
    "\n",
    "    def display_student(self):\n",
    "        super().display()\n",
    "        print(f\"Student Name: {self.name}, Roll Number: {self.roll_number}\")\n",
    "\n",
    "class Teacher(University):\n",
    "    def __init__(self, name, subject):\n",
    "        super().__init__(\"ABC University\")\n",
    "        self.name = name\n",
    "        self.subject = subject\n",
    "\n",
    "    def display_teacher(self):\n",
    "        super().display()\n",
    "        print(f\"Teacher Name: {self.name}, Subject: {self.subject}\")\n",
    "\n",
    "student = Student(\"John Doe\", \"S101\")\n",
    "student.display_student()\n",
    "\n",
    "teacher = Teacher(\"Jane Smith\", \"Mathematics\")\n",
    "teacher.display_teacher()\n",
    "\n"
   ]
  },
  {
   "cell_type": "code",
   "execution_count": 2,
   "metadata": {},
   "outputs": [
    {
     "name": "stdout",
     "output_type": "stream",
     "text": [
      "Brand: Apple\n",
      "Model: iPhone 13\n",
      "Brand: Dell\n",
      "Processor: Intel Core i7\n"
     ]
    }
   ],
   "source": [
    "class Electronic:\n",
    "    def __init__(self, brand):\n",
    "        self.brand = brand\n",
    "\n",
    "    def display(self):\n",
    "        print(f\"Brand: {self.brand}\")\n",
    "\n",
    "class Phone(Electronic):\n",
    "    def __init__(self, brand, model):\n",
    "        super().__init__(brand)\n",
    "        self.model = model\n",
    "\n",
    "    def display_phone(self):\n",
    "        super().display()\n",
    "        print(f\"Model: {self.model}\")\n",
    "\n",
    "class Laptop(Electronic):\n",
    "    def __init__(self, brand, processor):\n",
    "        super().__init__(brand)\n",
    "        self.processor = processor\n",
    "\n",
    "    def display_laptop(self):\n",
    "        super().display()\n",
    "        print(f\"Processor: {self.processor}\")\n",
    "\n",
    "phone = Phone(\"Apple\", \"iPhone 13\")\n",
    "phone.display_phone()\n",
    "\n",
    "laptop = Laptop(\"Dell\", \"Intel Core i7\")\n",
    "laptop.display_laptop()\n"
   ]
  },
  {
   "cell_type": "code",
   "execution_count": 3,
   "metadata": {},
   "outputs": [
    {
     "name": "stdout",
     "output_type": "stream",
     "text": [
      "Type: Passenger\n",
      "Model: Toyota Camry\n",
      "Type: Commercial\n",
      "Capacity: 10 Tons\n"
     ]
    }
   ],
   "source": [
    "class Vehicle:\n",
    "    def __init__(self, type):\n",
    "        self.type = type\n",
    "\n",
    "    def display(self):\n",
    "        print(f\"Type: {self.type}\")\n",
    "class Car(Vehicle):\n",
    "      def __init__(self, type, model):\n",
    "        super().__init__(type)\n",
    "        self.model = model\n",
    "\n",
    "      def display_car(self):\n",
    "        super().display()\n",
    "        print(f\"Model: {self.model}\")\n",
    "\n",
    "class Truck(Vehicle):\n",
    "    def __init__(self, type, capacity):\n",
    "        super().__init__(type)\n",
    "        self.capacity = capacity\n",
    "\n",
    "    def display_truck(self):\n",
    "        super().display()\n",
    "        print(f\"Capacity: {self.capacity}\")\n",
    "\n",
    "car = Car(\"Passenger\", \"Toyota Camry\")\n",
    "car.display_car()\n",
    "\n",
    "truck = Truck(\"Commercial\", \"10 Tons\")\n",
    "truck.display_truck()\n"
   ]
  },
  {
   "cell_type": "code",
   "execution_count": 4,
   "metadata": {},
   "outputs": [
    {
     "name": "stdout",
     "output_type": "stream",
     "text": [
      "Species: Mammal\n",
      "Breed: Golden Retriever\n",
      "Species: Mammal\n",
      "Color: Black\n"
     ]
    }
   ],
   "source": [
    "class Animal:\n",
    "    def __init__(self, species):\n",
    "        self.species = species\n",
    "\n",
    "    def display(self):\n",
    "        print(f\"Species: {self.species}\")\n",
    "\n",
    "class Dog(Animal):\n",
    "    def __init__(self, species, breed):\n",
    "        super().__init__(species)\n",
    "        self.breed = breed\n",
    "\n",
    "    def display_dog(self):\n",
    "        super().display()\n",
    "        print(f\"Breed: {self.breed}\")\n",
    "\n",
    "class Cat(Animal):\n",
    "    def __init__(self, species, color):\n",
    "        super().__init__(species)\n",
    "        self.color = color\n",
    "\n",
    "    def display_cat(self):\n",
    "        super().display()\n",
    "        print(f\"Color: {self.color}\")\n",
    "\n",
    "dog = Dog(\"Mammal\", \"Golden Retriever\")\n",
    "dog.display_dog()\n",
    "\n",
    "cat = Cat(\"Mammal\", \"Black\")\n",
    "cat.display_cat()\n",
    "\n",
    "\n"
   ]
  },
  {
   "cell_type": "code",
   "execution_count": 5,
   "metadata": {},
   "outputs": [
    {
     "name": "stdout",
     "output_type": "stream",
     "text": [
      "Game: Strategy\n",
      "Pieces: 32\n",
      "Game: Card Game\n",
      "Players: 6\n"
     ]
    }
   ],
   "source": [
    "class Game:\n",
    "    def __init__(self, name):\n",
    "        self.name = name\n",
    "\n",
    "    def display(self):\n",
    "        print(f\"Game: {self.name}\")\n",
    "\n",
    "class Chess(Game):\n",
    "    def __init__(self, name, pieces):\n",
    "        super().__init__(name)\n",
    "        self.pieces = pieces\n",
    "\n",
    "    def display_chess(self):\n",
    "        super().display()\n",
    "        print(f\"Pieces: {self.pieces}\")\n",
    "\n",
    "class Poker(Game):\n",
    "    def __init__(self, name, players):\n",
    "        super().__init__(name)\n",
    "        self.players = players\n",
    "\n",
    "    def display_poker(self):\n",
    "        super().display()\n",
    "        print(f\"Players: {self.players}\")\n",
    "\n",
    "chess = Chess(\"Strategy\", 32)\n",
    "chess.display_chess()\n",
    "\n",
    "poker = Poker(\"Card Game\", 6)\n",
    "poker.display_poker()\n"
   ]
  }
 ],
 "metadata": {
  "kernelspec": {
   "display_name": "base",
   "language": "python",
   "name": "python3"
  },
  "language_info": {
   "codemirror_mode": {
    "name": "ipython",
    "version": 3
   },
   "file_extension": ".py",
   "mimetype": "text/x-python",
   "name": "python",
   "nbconvert_exporter": "python",
   "pygments_lexer": "ipython3",
   "version": "3.11.3"
  }
 },
 "nbformat": 4,
 "nbformat_minor": 2
}
