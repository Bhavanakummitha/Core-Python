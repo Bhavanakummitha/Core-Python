{
 "cells": [
  {
   "cell_type": "code",
   "execution_count": 1,
   "metadata": {},
   "outputs": [
    {
     "name": "stdout",
     "output_type": "stream",
     "text": [
      "m1 of sample\n"
     ]
    }
   ],
   "source": [
    "class Demo:\n",
    "      def m1(self):\n",
    "            print(\"m1 of demo\")\n",
    "class sample(Demo):\n",
    "      def m1(self):\n",
    "            print(\"m1 of sample\")\n",
    "s1=sample()\n",
    "s1.m1()"
   ]
  },
  {
   "cell_type": "code",
   "execution_count": 1,
   "metadata": {},
   "outputs": [
    {
     "name": "stdout",
     "output_type": "stream",
     "text": [
      "Brand: self.brand\n",
      "Model: self.model\n",
      "RAM: self.ram GB\n",
      "Storage: self.storage GB\n",
      "Processor: self.processor\n",
      "Graphics Card: NVIDIA GeForce GTX 1650\n",
      "Touchscreen: True\n",
      "Fingerprint Reader: True\n",
      "Laptop is starting...\n",
      "Laptop Pro is ready to use.\n",
      "Playing game on Laptop Pro...\n",
      "Video editing on Laptop Pro...\n"
     ]
    }
   ],
   "source": [
    "class Laptop:\n",
    "    def __init__(self, brand, model, ram, storage, processor):\n",
    "        self.brand = brand\n",
    "        self.model = model\n",
    "        self.ram = ram\n",
    "        self.storage = storage\n",
    "        self.processor = processor\n",
    "\n",
    "    def display_details(self):\n",
    "        print(\"Brand: self.brand\")\n",
    "        print(\"Model: self.model\")\n",
    "        print(\"RAM: self.ram GB\")\n",
    "        print(\"Storage: self.storage GB\")\n",
    "        print(\"Processor: self.processor\")\n",
    "\n",
    "    def start_laptop(self):\n",
    "        print(\"Laptop is starting...\")\n",
    "\n",
    "\n",
    "class LaptopPro(Laptop):\n",
    "    def __init__(self, brand, model, ram, storage, processor, graphics_card, touchscreen, fingerprint_reader):\n",
    "        super().__init__(brand, model, ram, storage, processor)\n",
    "        self.graphics_card = graphics_card\n",
    "        self.touchscreen = touchscreen\n",
    "        self.fingerprint_reader = fingerprint_reader\n",
    "\n",
    "    def display_pro_details(self):\n",
    "        self.display_details()\n",
    "        print(\"Graphics Card: self.graphics_card\")\n",
    "        print(\"Touchscreen: self.touchscreen\")\n",
    "        print(\"Fingerprint Reader:self.fingerprint_reader\")\n",
    "\n",
    "    def start_laptop_pro(self):\n",
    "        self.start_laptop()\n",
    "        print(\"Laptop Pro is ready to use.\")\n",
    "\n",
    "    def play_game(self):\n",
    "        print(\"Playing game on Laptop Pro...\")\n",
    "\n",
    "    def video_editing(self):\n",
    "        print(\"Video editing on Laptop Pro...\")\n",
    "\n",
    "laptop_pro = LaptopPro(\"Dell\", \"XPS\", 16, 512, \"Intel Core i7\", \"NVIDIA GeForce GTX 1650\", True, True)\n",
    "\n",
    "laptop_pro.display_pro_details()\n",
    "\n",
    "\n",
    "laptop_pro.start_laptop_pro()\n",
    "laptop_pro.play_game()\n",
    "laptop_pro.video_editing()\n"
   ]
  },
  {
   "cell_type": "code",
   "execution_count": null,
   "metadata": {},
   "outputs": [],
   "source": []
  }
 ],
 "metadata": {
  "kernelspec": {
   "display_name": "Python 3",
   "language": "python",
   "name": "python3"
  },
  "language_info": {
   "codemirror_mode": {
    "name": "ipython",
    "version": 3
   },
   "file_extension": ".py",
   "mimetype": "text/x-python",
   "name": "python",
   "nbconvert_exporter": "python",
   "pygments_lexer": "ipython3",
   "version": "3.10.11"
  }
 },
 "nbformat": 4,
 "nbformat_minor": 2
}
