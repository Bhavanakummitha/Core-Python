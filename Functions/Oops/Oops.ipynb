{
 "cells": [
  {
   "cell_type": "code",
   "execution_count": 10,
   "metadata": {},
   "outputs": [
    {
     "name": "stdout",
     "output_type": "stream",
     "text": [
      "<__main__.Employee object at 0x00000293B341A710> <__main__.Employee object at 0x00000293B341A140> <__main__.Employee object at 0x00000293B341A620> <__main__.Employee object at 0x00000293B341A800>\n"
     ]
    }
   ],
   "source": [
    "class Employee:\n",
    "    pass\n",
    "e1=Employee()\n",
    "e2=Employee() \n",
    "e3=Employee()\n",
    "e4=Employee()\n",
    "\n",
    "print(e1,e2,e3,e4)"
   ]
  },
  {
   "cell_type": "code",
   "execution_count": 16,
   "metadata": {},
   "outputs": [
    {
     "name": "stdout",
     "output_type": "stream",
     "text": [
      "{'__module__': '__main__', 'trainer': 'xyz', 'trainer_age': 22, '__dict__': <attribute '__dict__' of 'student' objects>, '__weakref__': <attribute '__weakref__' of 'student' objects>, '__doc__': None}\n"
     ]
    }
   ],
   "source": [
    "class student:\n",
    "    trainer=\"xyz\"\n",
    "    trainer_age=22\n",
    "print(student.__dict__)"
   ]
  },
  {
   "cell_type": "code",
   "execution_count": 1,
   "metadata": {},
   "outputs": [
    {
     "name": "stdout",
     "output_type": "stream",
     "text": [
      "{'__module__': '__main__', '__dict__': <attribute '__dict__' of 'Book' objects>, '__weakref__': <attribute '__weakref__' of 'Book' objects>, '__doc__': None}\n",
      "{'__module__': '__main__', '__dict__': <attribute '__dict__' of 'Book' objects>, '__weakref__': <attribute '__weakref__' of 'Book' objects>, '__doc__': None, 'bookname': 'ABC', 'price': 2500}\n"
     ]
    }
   ],
   "source": [
    "class Book:\n",
    "    pass\n",
    "print(Book.__dict__)\n",
    "Book.bookname=\"ABC\"\n",
    "Book.price=2500\n",
    "print(Book.__dict__)\n"
   ]
  },
  {
   "cell_type": "code",
   "execution_count": 6,
   "metadata": {},
   "outputs": [
    {
     "name": "stdout",
     "output_type": "stream",
     "text": [
      "xyz\n"
     ]
    },
    {
     "ename": "AttributeError",
     "evalue": "type object 'Book' has no attribute 'Price'",
     "output_type": "error",
     "traceback": [
      "\u001b[1;31m---------------------------------------------------------------------------\u001b[0m",
      "\u001b[1;31mAttributeError\u001b[0m                            Traceback (most recent call last)",
      "Cell \u001b[1;32mIn[6], line 5\u001b[0m\n\u001b[0;32m      3\u001b[0m     bookprice\u001b[38;5;241m=\u001b[39m\u001b[38;5;241m2500\u001b[39m\n\u001b[0;32m      4\u001b[0m \u001b[38;5;28mprint\u001b[39m(Book\u001b[38;5;241m.\u001b[39mbookName)\n\u001b[1;32m----> 5\u001b[0m P\u001b[38;5;241m=\u001b[39m\u001b[43mBook\u001b[49m\u001b[38;5;241;43m.\u001b[39;49m\u001b[43mPrice\u001b[49m\n\u001b[0;32m      6\u001b[0m \u001b[38;5;28mprint\u001b[39m(P)\n",
      "\u001b[1;31mAttributeError\u001b[0m: type object 'Book' has no attribute 'Price'"
     ]
    }
   ],
   "source": [
    "class Book:\n",
    "    bookName=\"xyz\"\n",
    "    bookprice=2500\n",
    "print(Book.bookName)\n",
    "P=Book.Price\n",
    "print(P)\n"
   ]
  },
  {
   "cell_type": "code",
   "execution_count": 9,
   "metadata": {},
   "outputs": [
    {
     "ename": "NameError",
     "evalue": "name 'student' is not defined",
     "output_type": "error",
     "traceback": [
      "\u001b[1;31m---------------------------------------------------------------------------\u001b[0m",
      "\u001b[1;31mNameError\u001b[0m                                 Traceback (most recent call last)",
      "Cell \u001b[1;32mIn[9], line 1\u001b[0m\n\u001b[1;32m----> 1\u001b[0m \u001b[38;5;28;01mclass\u001b[39;00m \u001b[38;5;21;01mStudent\u001b[39;00m:\n\u001b[0;32m      2\u001b[0m     studentName\u001b[38;5;241m=\u001b[39m\u001b[38;5;124m\"\u001b[39m\u001b[38;5;124mBhavana\u001b[39m\u001b[38;5;124m\"\u001b[39m\n\u001b[0;32m      3\u001b[0m     studentNo\u001b[38;5;241m=\u001b[39m\u001b[38;5;241m3022\u001b[39m\n",
      "Cell \u001b[1;32mIn[9], line 4\u001b[0m, in \u001b[0;36mStudent\u001b[1;34m()\u001b[0m\n\u001b[0;32m      2\u001b[0m studentName\u001b[38;5;241m=\u001b[39m\u001b[38;5;124m\"\u001b[39m\u001b[38;5;124mBhavana\u001b[39m\u001b[38;5;124m\"\u001b[39m\n\u001b[0;32m      3\u001b[0m studentNo\u001b[38;5;241m=\u001b[39m\u001b[38;5;241m3022\u001b[39m\n\u001b[1;32m----> 4\u001b[0m \u001b[38;5;28mprint\u001b[39m(\u001b[43mstudent\u001b[49m\u001b[38;5;241m.\u001b[39mstudentName)\n\u001b[0;32m      5\u001b[0m p\u001b[38;5;241m=\u001b[39mstudent\u001b[38;5;241m.\u001b[39mNo\n\u001b[0;32m      6\u001b[0m \u001b[38;5;28mprint\u001b[39m(p)\n",
      "\u001b[1;31mNameError\u001b[0m: name 'student' is not defined"
     ]
    }
   ],
   "source": [
    "class Student:\n",
    "    studentName=\"Bhavana\"\n",
    "    studentNo=3022\n",
    "    print(student.studentName)\n",
    "    p=student.No\n",
    "    print(p)"
   ]
  },
  {
   "cell_type": "code",
   "execution_count": 11,
   "metadata": {},
   "outputs": [
    {
     "ename": "AttributeError",
     "evalue": "'Book' object has no attribute 'price'",
     "output_type": "error",
     "traceback": [
      "\u001b[1;31m---------------------------------------------------------------------------\u001b[0m",
      "\u001b[1;31mAttributeError\u001b[0m                            Traceback (most recent call last)",
      "Cell \u001b[1;32mIn[11], line 7\u001b[0m\n\u001b[0;32m      5\u001b[0m b2\u001b[38;5;241m=\u001b[39mBook()\n\u001b[0;32m      6\u001b[0m bn\u001b[38;5;241m=\u001b[39mBook()\n\u001b[1;32m----> 7\u001b[0m \u001b[38;5;28mprint\u001b[39m(b1\u001b[38;5;241m.\u001b[39mbookName,\u001b[43mb1\u001b[49m\u001b[38;5;241;43m.\u001b[39;49m\u001b[43mprice\u001b[49m)\n\u001b[0;32m      8\u001b[0m \u001b[38;5;28mprint\u001b[39m(b2\u001b[38;5;241m.\u001b[39mbookName,b2\u001b[38;5;241m.\u001b[39mprice)\n\u001b[0;32m      9\u001b[0m \u001b[38;5;28mprint\u001b[39m(b1\u001b[38;5;241m.\u001b[39mprice\u001b[38;5;241m+\u001b[39mb2\u001b[38;5;241m.\u001b[39mprice)\n",
      "\u001b[1;31mAttributeError\u001b[0m: 'Book' object has no attribute 'price'"
     ]
    }
   ],
   "source": [
    "class Book:\n",
    "    bookName=\"xyz\"\n",
    "    bookprice=2500\n",
    "b1=Book()\n",
    "b2=Book()\n",
    "bn=Book()\n",
    "print(b1.bookName,b1.price)\n",
    "print(b2.bookName,b2.price)\n",
    "print(b1.price+b2.price)\n"
   ]
  }
 ],
 "metadata": {
  "kernelspec": {
   "display_name": "Python 3",
   "language": "python",
   "name": "python3"
  },
  "language_info": {
   "codemirror_mode": {
    "name": "ipython",
    "version": 3
   },
   "file_extension": ".py",
   "mimetype": "text/x-python",
   "name": "python",
   "nbconvert_exporter": "python",
   "pygments_lexer": "ipython3",
   "version": "3.10.11"
  }
 },
 "nbformat": 4,
 "nbformat_minor": 2
}
