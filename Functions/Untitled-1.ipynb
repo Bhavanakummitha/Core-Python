{
 "cells": [
  {
   "cell_type": "code",
   "execution_count": 2,
   "metadata": {},
   "outputs": [
    {
     "name": "stdout",
     "output_type": "stream",
     "text": [
      "hello im sheela\n",
      "hello im sheela\n"
     ]
    }
   ],
   "source": [
    "def sheela():\n",
    "    print(\"hello im sheela\")\n",
    "sheela()\n",
    "sheela()\n",
    "    "
   ]
  },
  {
   "cell_type": "code",
   "execution_count": 6,
   "metadata": {},
   "outputs": [
    {
     "name": "stdout",
     "output_type": "stream",
     "text": [
      "6\n",
      "24\n",
      "63\n",
      "32\n",
      "540\n"
     ]
    }
   ],
   "source": [
    "def add(n1,n2):\n",
    "    print(n1*n2)\n",
    "add(2,3)\n",
    "add(4,6)\n",
    "add(7,9)\n",
    "add(4,8)\n",
    "add(90,6)\n",
    "\n",
    "    "
   ]
  },
  {
   "cell_type": "code",
   "execution_count": 6,
   "metadata": {},
   "outputs": [
    {
     "ename": "SyntaxError",
     "evalue": "unterminated string literal (detected at line 3) (708587066.py, line 3)",
     "output_type": "error",
     "traceback": [
      "\u001b[1;36m  Cell \u001b[1;32mIn[7], line 3\u001b[1;36m\u001b[0m\n\u001b[1;33m    print(\"character is alphabet)\u001b[0m\n\u001b[1;37m          ^\u001b[0m\n\u001b[1;31mSyntaxError\u001b[0m\u001b[1;31m:\u001b[0m unterminated string literal (detected at line 3)\n"
     ]
    }
   ],
   "source": [
    "def character(ch):\n",
    "    if ch>='A' and ch<='Z' or ch>='a' and ch<='z':\n",
    "        print(\"character is alphabet\")\n",
    "    else:\n",
    "        print(\"character is not a alphabet\")\n",
    "ischaracter('A')\n",
    "ischaracter('Z')\n",
    "ischaracter('r')\n",
    "ischaracter('10')\n",
    "\n",
    "\n",
    "\n"
   ]
  },
  {
   "cell_type": "code",
   "execution_count": 9,
   "metadata": {},
   "outputs": [
    {
     "name": "stdout",
     "output_type": "stream",
     "text": [
      "Annual salary is 360000\n",
      "Annual salary is 480000\n",
      "Annual salary is 840000\n",
      "Annual salary is 900000\n",
      "annual_salary is 4\n",
      "annual_salary is 4\n",
      "annual_salary is 0\n",
      "annual_salary is 8\n",
      "annual_salary is 4\n"
     ]
    }
   ],
   "source": [
    "def annual_salary(salary):\n",
    "    print(\"Annual salary is\",salary*12)\n",
    "annual_salary(30000)\n",
    "annual_salary(40000)\n",
    "annual_salary(70000)\n",
    "annual_salary(75000)\n",
    "\n",
    "\n",
    "def annual_salary(salary):\n",
    "    print(\"annual_salary is\",salary%12)\n",
    "annual_salary(4000)  \n",
    "annual_salary(10000)\n",
    "annual_salary(12000)\n",
    "annual_salary(35000)\n",
    "annual_salary(25000)\n",
    " "
   ]
  },
  {
   "cell_type": "code",
   "execution_count": 2,
   "metadata": {},
   "outputs": [
    {
     "name": "stdout",
     "output_type": "stream",
     "text": [
      "Calculated area: (2500, (45, 67))\n"
     ]
    }
   ],
   "source": [
    "def calculate_area(length, width):\n",
    "\tarea = 50 * 50\n",
    "\treturn area\n",
    "\n",
    "area = calculate_area(50, 50),(45,67) \n",
    "print(f\"Calculated area: {area}\") "
   ]
  },
  {
   "cell_type": "code",
   "execution_count": 1,
   "metadata": {},
   "outputs": [],
   "source": [
    "def sum_of_numbers(arg1,arg2):\n",
    "    i=arg1\n",
    "    sum=0\n",
    "    while i<=arg2:\n",
    "        sum+=i\n",
    "        i+=1\n",
    "    print(sum)\n",
    "    num1,num2=int(input()),int(input())\n",
    "    sum_of_numbers(num1,num2)\n",
    "        "
   ]
  },
  {
   "cell_type": "code",
   "execution_count": null,
   "metadata": {},
   "outputs": [],
   "source": []
  },
  {
   "cell_type": "code",
   "execution_count": 7,
   "metadata": {},
   "outputs": [],
   "source": [
    "def even (num):\n",
    "  if num%2==0:\n",
    "    return True\n",
    "  else:\n",
    "    return False\n",
    "    i=1\n",
    "    count=0\n",
    "    while  count<4:\n",
    "      if is_even(i)==True:\n",
    "        print(i)\n",
    "        count+=1\n",
    "    i+=1"
   ]
  },
  {
   "cell_type": "code",
   "execution_count": null,
   "metadata": {},
   "outputs": [],
   "source": []
  }
 ],
 "metadata": {
  "kernelspec": {
   "display_name": "Python 3",
   "language": "python",
   "name": "python3"
  },
  "language_info": {
   "codemirror_mode": {
    "name": "ipython",
    "version": 3
   },
   "file_extension": ".py",
   "mimetype": "text/x-python",
   "name": "python",
   "nbconvert_exporter": "python",
   "pygments_lexer": "ipython3",
   "version": "3.10.11"
  }
 },
 "nbformat": 4,
 "nbformat_minor": 2
}
